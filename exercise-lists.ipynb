{
 "cells": [
  {
   "cell_type": "markdown",
   "id": "95237fd9",
   "metadata": {
    "papermill": {
     "duration": 0.00388,
     "end_time": "2025-09-25T18:41:14.323203",
     "exception": false,
     "start_time": "2025-09-25T18:41:14.319323",
     "status": "completed"
    },
    "tags": []
   },
   "source": [
    "**This notebook is an exercise in the [Python](https://www.kaggle.com/learn/python) course.  You can reference the tutorial at [this link](https://www.kaggle.com/colinmorris/lists).**\n",
    "\n",
    "---\n"
   ]
  },
  {
   "cell_type": "markdown",
   "id": "5e4a96c9",
   "metadata": {
    "papermill": {
     "duration": 0.002945,
     "end_time": "2025-09-25T18:41:14.329466",
     "exception": false,
     "start_time": "2025-09-25T18:41:14.326521",
     "status": "completed"
    },
    "tags": []
   },
   "source": [
    "Things get more interesting with lists. You'll apply your new knowledge to solve the questions below. Remember to run the following cell first."
   ]
  },
  {
   "cell_type": "code",
   "execution_count": 1,
   "id": "6f0b13d4",
   "metadata": {
    "execution": {
     "iopub.execute_input": "2025-09-25T18:41:14.336866Z",
     "iopub.status.busy": "2025-09-25T18:41:14.336539Z",
     "iopub.status.idle": "2025-09-25T18:41:16.306065Z",
     "shell.execute_reply": "2025-09-25T18:41:16.305179Z"
    },
    "papermill": {
     "duration": 1.974865,
     "end_time": "2025-09-25T18:41:16.307491",
     "exception": false,
     "start_time": "2025-09-25T18:41:14.332626",
     "status": "completed"
    },
    "tags": []
   },
   "outputs": [
    {
     "name": "stdout",
     "output_type": "stream",
     "text": [
      "Setup complete.\n"
     ]
    }
   ],
   "source": [
    "from learntools.core import binder; binder.bind(globals())\n",
    "from learntools.python.ex4 import *\n",
    "print('Setup complete.')"
   ]
  },
  {
   "cell_type": "markdown",
   "id": "fa18b830",
   "metadata": {
    "papermill": {
     "duration": 0.003055,
     "end_time": "2025-09-25T18:41:16.313927",
     "exception": false,
     "start_time": "2025-09-25T18:41:16.310872",
     "status": "completed"
    },
    "tags": []
   },
   "source": [
    "# 1.\n",
    "\n",
    "Complete the function below according to its docstring."
   ]
  },
  {
   "cell_type": "code",
   "execution_count": 2,
   "id": "95f36ce7",
   "metadata": {
    "execution": {
     "iopub.execute_input": "2025-09-25T18:41:16.322154Z",
     "iopub.status.busy": "2025-09-25T18:41:16.321667Z",
     "iopub.status.idle": "2025-09-25T18:41:16.330305Z",
     "shell.execute_reply": "2025-09-25T18:41:16.329286Z"
    },
    "papermill": {
     "duration": 0.014462,
     "end_time": "2025-09-25T18:41:16.331714",
     "exception": false,
     "start_time": "2025-09-25T18:41:16.317252",
     "status": "completed"
    },
    "tags": []
   },
   "outputs": [
    {
     "data": {
      "application/javascript": [
       "parent.postMessage({\"jupyterEvent\": \"custom.exercise_interaction\", \"data\": {\"outcomeType\": 1, \"valueTowardsCompletion\": 0.2, \"interactionType\": 1, \"questionType\": 2, \"questionId\": \"1_SelectSecondItem\", \"learnToolsVersion\": \"0.3.5\", \"failureMessage\": \"\", \"exceptionClass\": \"\", \"trace\": \"\"}}, \"*\")"
      ],
      "text/plain": [
       "<IPython.core.display.Javascript object>"
      ]
     },
     "metadata": {},
     "output_type": "display_data"
    },
    {
     "data": {
      "text/markdown": [
       "<span style=\"color:#33cc33\">Correct</span>"
      ],
      "text/plain": [
       "Correct"
      ]
     },
     "metadata": {},
     "output_type": "display_data"
    }
   ],
   "source": [
    "def select_second(L):\n",
    "    \"\"\"Return the second element of the given list. If the list has no second\n",
    "    element, return None.\n",
    "    \"\"\"\n",
    "    if len(L) < 2:\n",
    "        return None\n",
    "    return L[1]\n",
    "\n",
    "# Check your answer\n",
    "q1.check()"
   ]
  },
  {
   "cell_type": "code",
   "execution_count": 3,
   "id": "d7054684",
   "metadata": {
    "execution": {
     "iopub.execute_input": "2025-09-25T18:41:16.340197Z",
     "iopub.status.busy": "2025-09-25T18:41:16.339876Z",
     "iopub.status.idle": "2025-09-25T18:41:16.343395Z",
     "shell.execute_reply": "2025-09-25T18:41:16.342642Z"
    },
    "papermill": {
     "duration": 0.009255,
     "end_time": "2025-09-25T18:41:16.344712",
     "exception": false,
     "start_time": "2025-09-25T18:41:16.335457",
     "status": "completed"
    },
    "tags": []
   },
   "outputs": [],
   "source": [
    "#q1.hint()\n",
    "#q1.solution()"
   ]
  },
  {
   "cell_type": "markdown",
   "id": "f232277e",
   "metadata": {
    "papermill": {
     "duration": 0.003114,
     "end_time": "2025-09-25T18:41:16.351429",
     "exception": false,
     "start_time": "2025-09-25T18:41:16.348315",
     "status": "completed"
    },
    "tags": []
   },
   "source": [
    "# 2.\n",
    "\n",
    "You are analyzing sports teams.  Members of each team are stored in a list. The Coach is the first name in the list, the captain is the second name in the list, and other players are listed after that. \n",
    "These lists are stored in another list, which starts with the best team and proceeds through the list to the worst team last.  Complete the function below to select the **captain** of the worst team."
   ]
  },
  {
   "cell_type": "code",
   "execution_count": 4,
   "id": "6a6dd4e5",
   "metadata": {
    "execution": {
     "iopub.execute_input": "2025-09-25T18:41:16.359621Z",
     "iopub.status.busy": "2025-09-25T18:41:16.359024Z",
     "iopub.status.idle": "2025-09-25T18:41:16.367486Z",
     "shell.execute_reply": "2025-09-25T18:41:16.366650Z"
    },
    "papermill": {
     "duration": 0.014194,
     "end_time": "2025-09-25T18:41:16.368889",
     "exception": false,
     "start_time": "2025-09-25T18:41:16.354695",
     "status": "completed"
    },
    "tags": []
   },
   "outputs": [
    {
     "data": {
      "application/javascript": [
       "parent.postMessage({\"jupyterEvent\": \"custom.exercise_interaction\", \"data\": {\"outcomeType\": 3, \"exceptionClass\": \"IndexError\", \"trace\": \"  File \\\"/usr/local/lib/python3.11/dist-packages/learntools/core/problem.py\\\", line 239, in check\\n    actual = fn(*args)\\n             ^^^^^^^^^\\n\\n  File \\\"/tmp/ipykernel_13/3924714175.py\\\", line 6, in losing_team_captain\\n    return teams[last]\\n           ~~~~~^^^^^^\\n\", \"failureMessage\": \"When calling your function with arguments `[[['Paul', 'John', 'Ringo', 'George']]]`, Python raised the following exception... **`IndexError: list index out of range`**\", \"interactionType\": 1, \"questionType\": 2, \"questionId\": \"2_LosingTeamCaptain\", \"learnToolsVersion\": \"0.3.5\", \"valueTowardsCompletion\": 0.0}}, \"*\")"
      ],
      "text/plain": [
       "<IPython.core.display.Javascript object>"
      ]
     },
     "metadata": {},
     "output_type": "display_data"
    },
    {
     "data": {
      "text/markdown": [
       "<span style=\"color:#cc3333\">Incorrect:</span> When calling your function with arguments `[[['Paul', 'John', 'Ringo', 'George']]]`, Python raised the following exception... **`IndexError: list index out of range`**"
      ],
      "text/plain": [
       "Incorrect: When calling your function with arguments `[[['Paul', 'John', 'Ringo', 'George']]]`, Python raised the following exception... **`IndexError: list index out of range`**"
      ]
     },
     "metadata": {},
     "output_type": "display_data"
    }
   ],
   "source": [
    "def losing_team_captain(teams):\n",
    "    \"\"\"Given a list of teams, where each team is a list of names, return the 2nd player (captain)\n",
    "    from the last listed team\n",
    "    \"\"\"\n",
    "    last = len(teams)\n",
    "    return teams[last]\n",
    "\n",
    "\n",
    "# Check your answer\n",
    "q2.check()"
   ]
  },
  {
   "cell_type": "code",
   "execution_count": 5,
   "id": "d22c4ede",
   "metadata": {
    "execution": {
     "iopub.execute_input": "2025-09-25T18:41:16.377633Z",
     "iopub.status.busy": "2025-09-25T18:41:16.377323Z",
     "iopub.status.idle": "2025-09-25T18:41:16.384159Z",
     "shell.execute_reply": "2025-09-25T18:41:16.383367Z"
    },
    "papermill": {
     "duration": 0.012542,
     "end_time": "2025-09-25T18:41:16.385395",
     "exception": false,
     "start_time": "2025-09-25T18:41:16.372853",
     "status": "completed"
    },
    "tags": []
   },
   "outputs": [
    {
     "data": {
      "application/javascript": [
       "parent.postMessage({\"jupyterEvent\": \"custom.exercise_interaction\", \"data\": {\"interactionType\": 2, \"questionType\": 2, \"questionId\": \"2_LosingTeamCaptain\", \"learnToolsVersion\": \"0.3.5\", \"valueTowardsCompletion\": 0.0, \"failureMessage\": \"\", \"exceptionClass\": \"\", \"trace\": \"\", \"outcomeType\": 4}}, \"*\")"
      ],
      "text/plain": [
       "<IPython.core.display.Javascript object>"
      ]
     },
     "metadata": {},
     "output_type": "display_data"
    },
    {
     "data": {
      "text/markdown": [
       "<span style=\"color:#3366cc\">Hint:</span> The last item in a list `L` can be selected with `L[-1]`. The first item in the first sublist would be selected as `L[0][0]`"
      ],
      "text/plain": [
       "Hint: The last item in a list `L` can be selected with `L[-1]`. The first item in the first sublist would be selected as `L[0][0]`"
      ]
     },
     "metadata": {},
     "output_type": "display_data"
    }
   ],
   "source": [
    "q2.hint()\n",
    "#q2.solution()"
   ]
  },
  {
   "cell_type": "markdown",
   "id": "30df09c0",
   "metadata": {
    "papermill": {
     "duration": 0.004271,
     "end_time": "2025-09-25T18:41:16.393556",
     "exception": false,
     "start_time": "2025-09-25T18:41:16.389285",
     "status": "completed"
    },
    "tags": []
   },
   "source": [
    "# 3.\n",
    "\n",
    "The next iteration of Mario Kart will feature an extra-infuriating new item, the *Purple Shell*. When used, it warps the last place racer into first place and the first place racer into last place. Complete the function below to implement the Purple Shell's effect."
   ]
  },
  {
   "cell_type": "code",
   "execution_count": 6,
   "id": "fa4f1632",
   "metadata": {
    "execution": {
     "iopub.execute_input": "2025-09-25T18:41:16.401981Z",
     "iopub.status.busy": "2025-09-25T18:41:16.401666Z",
     "iopub.status.idle": "2025-09-25T18:41:16.408713Z",
     "shell.execute_reply": "2025-09-25T18:41:16.407879Z"
    },
    "papermill": {
     "duration": 0.012798,
     "end_time": "2025-09-25T18:41:16.409968",
     "exception": false,
     "start_time": "2025-09-25T18:41:16.397170",
     "status": "completed"
    },
    "tags": []
   },
   "outputs": [
    {
     "data": {
      "application/javascript": [
       "parent.postMessage({\"jupyterEvent\": \"custom.exercise_interaction\", \"data\": {\"outcomeType\": 4, \"interactionType\": 1, \"questionType\": 2, \"questionId\": \"3_PurpleShell\", \"learnToolsVersion\": \"0.3.5\", \"valueTowardsCompletion\": 0.0, \"failureMessage\": \"\", \"exceptionClass\": \"\", \"trace\": \"\"}}, \"*\")"
      ],
      "text/plain": [
       "<IPython.core.display.Javascript object>"
      ]
     },
     "metadata": {},
     "output_type": "display_data"
    },
    {
     "data": {
      "text/markdown": [
       "<span style=\"color:#ccaa33\">Check:</span> When you've updated the starter code, `check()` will tell you whether your code is correct. "
      ],
      "text/plain": [
       "Check: When you've updated the starter code, `check()` will tell you whether your code is correct. "
      ]
     },
     "metadata": {},
     "output_type": "display_data"
    }
   ],
   "source": [
    "def purple_shell(racers):\n",
    "    \"\"\"Given a list of racers, set the first place racer (at the front of the list) to last\n",
    "    place and vice versa.\n",
    "    \n",
    "    >>> r = [\"Mario\", \"Bowser\", \"Luigi\"]\n",
    "    >>> purple_shell(r)\n",
    "    >>> r\n",
    "    [\"Luigi\", \"Bowser\", \"Mario\"]\n",
    "    \"\"\"\n",
    "    pass\n",
    "\n",
    "# Check your answer\n",
    "q3.check()"
   ]
  },
  {
   "cell_type": "code",
   "execution_count": 7,
   "id": "e9572ab0",
   "metadata": {
    "collapsed": true,
    "execution": {
     "iopub.execute_input": "2025-09-25T18:41:16.419551Z",
     "iopub.status.busy": "2025-09-25T18:41:16.419243Z",
     "iopub.status.idle": "2025-09-25T18:41:16.423007Z",
     "shell.execute_reply": "2025-09-25T18:41:16.422163Z"
    },
    "jupyter": {
     "outputs_hidden": true
    },
    "papermill": {
     "duration": 0.010336,
     "end_time": "2025-09-25T18:41:16.424459",
     "exception": false,
     "start_time": "2025-09-25T18:41:16.414123",
     "status": "completed"
    },
    "tags": []
   },
   "outputs": [],
   "source": [
    "#q3.hint()\n",
    "#q3.solution()"
   ]
  },
  {
   "cell_type": "markdown",
   "id": "1a06581f",
   "metadata": {
    "papermill": {
     "duration": 0.003791,
     "end_time": "2025-09-25T18:41:16.432466",
     "exception": false,
     "start_time": "2025-09-25T18:41:16.428675",
     "status": "completed"
    },
    "tags": []
   },
   "source": [
    "# 4.\n",
    "\n",
    "What are the lengths of the following lists? Fill in the variable `lengths` with your predictions. (Try to make a prediction for each list *without* just calling `len()` on it.)"
   ]
  },
  {
   "cell_type": "code",
   "execution_count": 8,
   "id": "d1ef9f3e",
   "metadata": {
    "execution": {
     "iopub.execute_input": "2025-09-25T18:41:16.441855Z",
     "iopub.status.busy": "2025-09-25T18:41:16.441188Z",
     "iopub.status.idle": "2025-09-25T18:41:16.448930Z",
     "shell.execute_reply": "2025-09-25T18:41:16.448142Z"
    },
    "papermill": {
     "duration": 0.013936,
     "end_time": "2025-09-25T18:41:16.450286",
     "exception": false,
     "start_time": "2025-09-25T18:41:16.436350",
     "status": "completed"
    },
    "tags": []
   },
   "outputs": [
    {
     "data": {
      "application/javascript": [
       "parent.postMessage({\"jupyterEvent\": \"custom.exercise_interaction\", \"data\": {\"outcomeType\": 4, \"interactionType\": 1, \"questionType\": 1, \"questionId\": \"4_UnderstandLen\", \"learnToolsVersion\": \"0.3.5\", \"valueTowardsCompletion\": 0.0, \"failureMessage\": \"\", \"exceptionClass\": \"\", \"trace\": \"\"}}, \"*\")"
      ],
      "text/plain": [
       "<IPython.core.display.Javascript object>"
      ]
     },
     "metadata": {},
     "output_type": "display_data"
    },
    {
     "data": {
      "text/markdown": [
       "<span style=\"color:#ccaa33\">Check:</span> When you've updated the starter code, `check()` will tell you whether your code is correct. You need to update the code that creates variable `lengths`"
      ],
      "text/plain": [
       "Check: When you've updated the starter code, `check()` will tell you whether your code is correct. You need to update the code that creates variable `lengths`"
      ]
     },
     "metadata": {},
     "output_type": "display_data"
    }
   ],
   "source": [
    "a = [1, 2, 3]\n",
    "b = [1, [2, 3]]\n",
    "c = []\n",
    "d = [1, 2, 3][1:]\n",
    "\n",
    "# Put your predictions in the list below. Lengths should contain 4 numbers, the\n",
    "# first being the length of a, the second being the length of b and so on.\n",
    "lengths = []\n",
    "\n",
    "# Check your answer\n",
    "q4.check()"
   ]
  },
  {
   "cell_type": "code",
   "execution_count": 9,
   "id": "169eeee9",
   "metadata": {
    "collapsed": true,
    "execution": {
     "iopub.execute_input": "2025-09-25T18:41:16.460134Z",
     "iopub.status.busy": "2025-09-25T18:41:16.459317Z",
     "iopub.status.idle": "2025-09-25T18:41:16.464152Z",
     "shell.execute_reply": "2025-09-25T18:41:16.463255Z"
    },
    "jupyter": {
     "outputs_hidden": true
    },
    "papermill": {
     "duration": 0.011653,
     "end_time": "2025-09-25T18:41:16.466044",
     "exception": false,
     "start_time": "2025-09-25T18:41:16.454391",
     "status": "completed"
    },
    "tags": []
   },
   "outputs": [],
   "source": [
    "# line below provides some explanation\n",
    "#q4.solution()"
   ]
  },
  {
   "cell_type": "markdown",
   "id": "8695b67c",
   "metadata": {
    "papermill": {
     "duration": 0.003965,
     "end_time": "2025-09-25T18:41:16.474378",
     "exception": false,
     "start_time": "2025-09-25T18:41:16.470413",
     "status": "completed"
    },
    "tags": []
   },
   "source": [
    "# 5. <span title=\"A bit spicy\" style=\"color: darkgreen \">🌶️</span>\n",
    "\n",
    "We're using lists to record people who attended our party and what order they arrived in. For example, the following list represents a party with 7 guests, in which Adela showed up first and Ford was the last to arrive:\n",
    "\n",
    "    party_attendees = ['Adela', 'Fleda', 'Owen', 'May', 'Mona', 'Gilbert', 'Ford']\n",
    "\n",
    "A guest is considered 'fashionably late' if they arrived after at least half of the party's guests. However, they must not be the very last guest (that's taking it too far). In the above example, Mona and Gilbert are the only guests who were fashionably late.\n",
    "\n",
    "Complete the function below which takes a list of party attendees as well as a person, and tells us whether that person is fashionably late."
   ]
  },
  {
   "cell_type": "code",
   "execution_count": 10,
   "id": "72b9156a",
   "metadata": {
    "execution": {
     "iopub.execute_input": "2025-09-25T18:41:16.484529Z",
     "iopub.status.busy": "2025-09-25T18:41:16.484190Z",
     "iopub.status.idle": "2025-09-25T18:41:16.492498Z",
     "shell.execute_reply": "2025-09-25T18:41:16.491237Z"
    },
    "papermill": {
     "duration": 0.015635,
     "end_time": "2025-09-25T18:41:16.494318",
     "exception": false,
     "start_time": "2025-09-25T18:41:16.478683",
     "status": "completed"
    },
    "tags": []
   },
   "outputs": [
    {
     "data": {
      "application/javascript": [
       "parent.postMessage({\"jupyterEvent\": \"custom.exercise_interaction\", \"data\": {\"outcomeType\": 4, \"interactionType\": 1, \"questionType\": 2, \"questionId\": \"5_FashionablyLate\", \"learnToolsVersion\": \"0.3.5\", \"valueTowardsCompletion\": 0.0, \"failureMessage\": \"\", \"exceptionClass\": \"\", \"trace\": \"\"}}, \"*\")"
      ],
      "text/plain": [
       "<IPython.core.display.Javascript object>"
      ]
     },
     "metadata": {},
     "output_type": "display_data"
    },
    {
     "data": {
      "text/markdown": [
       "<span style=\"color:#ccaa33\">Check:</span> When you've updated the starter code, `check()` will tell you whether your code is correct. "
      ],
      "text/plain": [
       "Check: When you've updated the starter code, `check()` will tell you whether your code is correct. "
      ]
     },
     "metadata": {},
     "output_type": "display_data"
    }
   ],
   "source": [
    "def fashionably_late(arrivals, name):\n",
    "    \"\"\"Given an ordered list of arrivals to the party and a name, return whether the guest with that\n",
    "    name was fashionably late.\n",
    "    \"\"\"\n",
    "    pass\n",
    "\n",
    "# Check your answer\n",
    "q5.check()"
   ]
  },
  {
   "cell_type": "code",
   "execution_count": 11,
   "id": "732846ff",
   "metadata": {
    "collapsed": true,
    "execution": {
     "iopub.execute_input": "2025-09-25T18:41:16.504549Z",
     "iopub.status.busy": "2025-09-25T18:41:16.504259Z",
     "iopub.status.idle": "2025-09-25T18:41:16.508333Z",
     "shell.execute_reply": "2025-09-25T18:41:16.507176Z"
    },
    "jupyter": {
     "outputs_hidden": true
    },
    "papermill": {
     "duration": 0.010897,
     "end_time": "2025-09-25T18:41:16.509774",
     "exception": false,
     "start_time": "2025-09-25T18:41:16.498877",
     "status": "completed"
    },
    "tags": []
   },
   "outputs": [],
   "source": [
    "#q5.hint()\n",
    "#q5.solution()"
   ]
  },
  {
   "cell_type": "markdown",
   "id": "1f27d6cd",
   "metadata": {
    "papermill": {
     "duration": 0.004296,
     "end_time": "2025-09-25T18:41:16.518697",
     "exception": false,
     "start_time": "2025-09-25T18:41:16.514401",
     "status": "completed"
    },
    "tags": []
   },
   "source": [
    "# Keep Going\n",
    "\n",
    "That's it for lists and tuples! Now you have the baseline knowledge to **[learn about loops](https://www.kaggle.com/colinmorris/loops-and-list-comprehensions)**, which is where lists and tuples get really interesting. "
   ]
  },
  {
   "cell_type": "markdown",
   "id": "7cfffdde",
   "metadata": {
    "papermill": {
     "duration": 0.004196,
     "end_time": "2025-09-25T18:41:16.527247",
     "exception": false,
     "start_time": "2025-09-25T18:41:16.523051",
     "status": "completed"
    },
    "tags": []
   },
   "source": [
    "---\n",
    "\n",
    "\n",
    "\n",
    "\n",
    "*Have questions or comments? Visit the [course discussion forum](https://www.kaggle.com/learn/python/discussion) to chat with other learners.*"
   ]
  }
 ],
 "metadata": {
  "kaggle": {
   "accelerator": "none",
   "dataSources": [],
   "isGpuEnabled": false,
   "isInternetEnabled": false,
   "language": "python",
   "sourceType": "notebook"
  },
  "kernelspec": {
   "display_name": "Python 3",
   "language": "python",
   "name": "python3"
  },
  "language_info": {
   "codemirror_mode": {
    "name": "ipython",
    "version": 3
   },
   "file_extension": ".py",
   "mimetype": "text/x-python",
   "name": "python",
   "nbconvert_exporter": "python",
   "pygments_lexer": "ipython3",
   "version": "3.11.13"
  },
  "learntools_metadata": {
   "lesson_index": 3,
   "type": "exercise"
  },
  "papermill": {
   "default_parameters": {},
   "duration": 8.133693,
   "end_time": "2025-09-25T18:41:17.050551",
   "environment_variables": {},
   "exception": null,
   "input_path": "__notebook__.ipynb",
   "output_path": "__notebook__.ipynb",
   "parameters": {},
   "start_time": "2025-09-25T18:41:08.916858",
   "version": "2.6.0"
  }
 },
 "nbformat": 4,
 "nbformat_minor": 5
}
