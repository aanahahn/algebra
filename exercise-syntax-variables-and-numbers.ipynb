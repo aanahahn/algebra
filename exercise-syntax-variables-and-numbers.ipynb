{
 "cells": [
  {
   "cell_type": "markdown",
   "id": "f7424bd8",
   "metadata": {
    "papermill": {
     "duration": 0.006047,
     "end_time": "2025-07-17T19:35:35.608543",
     "exception": false,
     "start_time": "2025-07-17T19:35:35.602496",
     "status": "completed"
    },
    "tags": []
   },
   "source": [
    "**This notebook is an exercise in the [Python](https://www.kaggle.com/learn/python) course.  You can reference the tutorial at [this link](https://www.kaggle.com/colinmorris/hello-python).**\n",
    "\n",
    "---\n"
   ]
  },
  {
   "cell_type": "markdown",
   "id": "093af254",
   "metadata": {
    "papermill": {
     "duration": 0.004285,
     "end_time": "2025-07-17T19:35:35.617680",
     "exception": false,
     "start_time": "2025-07-17T19:35:35.613395",
     "status": "completed"
    },
    "tags": []
   },
   "source": [
    "Welcome to your first set of Python coding problems.  If this is your first time using Kaggle Notebooks, welcome! \n",
    "\n",
    "Notebooks are composed of blocks (called \"cells\") of text and code. Each of these is editable, though you'll mainly be editing the code cells to answer some questions.\n",
    "\n",
    "To get started, try running the code cell below (by pressing the ► button, or clicking on the cell and pressing ctrl+enter on your keyboard)."
   ]
  },
  {
   "cell_type": "code",
   "execution_count": 1,
   "id": "2685d4ad",
   "metadata": {
    "execution": {
     "iopub.execute_input": "2025-07-17T19:35:35.627953Z",
     "iopub.status.busy": "2025-07-17T19:35:35.627558Z",
     "iopub.status.idle": "2025-07-17T19:35:35.636018Z",
     "shell.execute_reply": "2025-07-17T19:35:35.635161Z"
    },
    "papermill": {
     "duration": 0.015155,
     "end_time": "2025-07-17T19:35:35.637274",
     "exception": false,
     "start_time": "2025-07-17T19:35:35.622119",
     "status": "completed"
    },
    "tags": []
   },
   "outputs": [
    {
     "name": "stdout",
     "output_type": "stream",
     "text": [
      "You've successfully run some Python code\n",
      "Congratulations!\n",
      "Did this work?\n"
     ]
    }
   ],
   "source": [
    "print(\"You've successfully run some Python code\")\n",
    "print(\"Congratulations!\")\n",
    "print (\"Did this work?\")"
   ]
  },
  {
   "cell_type": "code",
   "execution_count": null,
   "id": "7d023ed2",
   "metadata": {
    "papermill": {
     "duration": 0.004342,
     "end_time": "2025-07-17T19:35:35.646328",
     "exception": false,
     "start_time": "2025-07-17T19:35:35.641986",
     "status": "completed"
    },
    "tags": []
   },
   "outputs": [],
   "source": []
  },
  {
   "cell_type": "markdown",
   "id": "bae1100e",
   "metadata": {
    "papermill": {
     "duration": 0.004202,
     "end_time": "2025-07-17T19:35:35.654957",
     "exception": false,
     "start_time": "2025-07-17T19:35:35.650755",
     "status": "completed"
    },
    "tags": []
   },
   "source": [
    "Try adding another line of code in the cell above and re-running it. \n",
    "\n",
    "Now let's get a little fancier:  Add a new code cell by clicking on an existing code cell, hitting the escape key, and then hitting the `a` or `b` key.  The `a` key will add a cell above the current cell, and `b` adds a cell below.\n",
    "\n",
    "Great! Now you know how to use Notebooks.\n",
    "\n",
    "Each hands-on exercise starts by setting up our feedback and code checking mechanism. Run the code cell below to do that. Then you'll be ready to move on to question 0."
   ]
  },
  {
   "cell_type": "code",
   "execution_count": 2,
   "id": "9b168279",
   "metadata": {
    "_kg_hide-input": true,
    "_kg_hide-output": true,
    "execution": {
     "iopub.execute_input": "2025-07-17T19:35:35.666085Z",
     "iopub.status.busy": "2025-07-17T19:35:35.665498Z",
     "iopub.status.idle": "2025-07-17T19:35:37.442979Z",
     "shell.execute_reply": "2025-07-17T19:35:37.441940Z"
    },
    "papermill": {
     "duration": 1.784743,
     "end_time": "2025-07-17T19:35:37.444361",
     "exception": false,
     "start_time": "2025-07-17T19:35:35.659618",
     "status": "completed"
    },
    "tags": []
   },
   "outputs": [
    {
     "name": "stdout",
     "output_type": "stream",
     "text": [
      "Setup complete! You're ready to start question 0.\n"
     ]
    }
   ],
   "source": [
    "from learntools.core import binder; binder.bind(globals())\n",
    "from learntools.python.ex1 import *\n",
    "print(\"Setup complete! You're ready to start question 0.\")"
   ]
  },
  {
   "cell_type": "markdown",
   "id": "3f15b541",
   "metadata": {
    "papermill": {
     "duration": 0.005596,
     "end_time": "2025-07-17T19:35:37.455001",
     "exception": false,
     "start_time": "2025-07-17T19:35:37.449405",
     "status": "completed"
    },
    "tags": []
   },
   "source": [
    "# 0.\n",
    "\n",
    "*This is a silly question intended as an introduction to the format we use for hands-on exercises throughout all Kaggle courses.*\n",
    "\n",
    "**What is your favorite color? **\n",
    "\n",
    "To complete this question, create a variable called `color` in the cell below with an appropriate value. The function call `q0.check()` (which we've already provided in the cell below) will check your answer."
   ]
  },
  {
   "cell_type": "code",
   "execution_count": 3,
   "id": "4ee3e3f1",
   "metadata": {
    "execution": {
     "iopub.execute_input": "2025-07-17T19:35:37.466283Z",
     "iopub.status.busy": "2025-07-17T19:35:37.465535Z",
     "iopub.status.idle": "2025-07-17T19:35:37.473871Z",
     "shell.execute_reply": "2025-07-17T19:35:37.472959Z"
    },
    "papermill": {
     "duration": 0.015337,
     "end_time": "2025-07-17T19:35:37.475251",
     "exception": false,
     "start_time": "2025-07-17T19:35:37.459914",
     "status": "completed"
    },
    "tags": []
   },
   "outputs": [
    {
     "data": {
      "application/javascript": [
       "parent.postMessage({\"jupyterEvent\": \"custom.exercise_interaction\", \"data\": {\"outcomeType\": 1, \"valueTowardsCompletion\": 0.25, \"interactionType\": 1, \"questionType\": 2, \"questionId\": \"0_ExerciseFormatTutorial\", \"learnToolsVersion\": \"0.3.5\", \"failureMessage\": \"\", \"exceptionClass\": \"\", \"trace\": \"\"}}, \"*\")"
      ],
      "text/plain": [
       "<IPython.core.display.Javascript object>"
      ]
     },
     "metadata": {},
     "output_type": "display_data"
    },
    {
     "data": {
      "text/markdown": [
       "<span style=\"color:#33cc33\">Correct:</span> What?! You got it right without needing a hint or anything? Drats. Well hey, you should still continue to the next step to get some practice asking for a hint and checking solutions. (Even though you obviously don't need any help here.)"
      ],
      "text/plain": [
       "Correct: What?! You got it right without needing a hint or anything? Drats. Well hey, you should still continue to the next step to get some practice asking for a hint and checking solutions. (Even though you obviously don't need any help here.)"
      ]
     },
     "metadata": {},
     "output_type": "display_data"
    }
   ],
   "source": [
    "# create a variable called color with an appropriate value on the line below\n",
    "# (Remember, strings in Python must be enclosed in 'single' or \"double\" quotes)\n",
    "____\n",
    "color = \"blue\"\n",
    "# Check your answer\n",
    "q0.check()"
   ]
  },
  {
   "cell_type": "markdown",
   "id": "0ff05a36",
   "metadata": {
    "papermill": {
     "duration": 0.004588,
     "end_time": "2025-07-17T19:35:37.484725",
     "exception": false,
     "start_time": "2025-07-17T19:35:37.480137",
     "status": "completed"
    },
    "tags": []
   },
   "source": [
    "Didn't get the right answer? How do you not even know your own favorite color?!\n",
    "\n",
    "Delete the `#` in the line below to make one of the lines run. You can choose between getting a hint or the full answer by choosing which line to remove the `#` from. \n",
    "\n",
    "Removing the `#` is called uncommenting, because it changes that line from a \"comment\" which Python doesn't run to code, which Python does run."
   ]
  },
  {
   "cell_type": "code",
   "execution_count": 4,
   "id": "1abe8060",
   "metadata": {
    "execution": {
     "iopub.execute_input": "2025-07-17T19:35:37.496284Z",
     "iopub.status.busy": "2025-07-17T19:35:37.495960Z",
     "iopub.status.idle": "2025-07-17T19:35:37.505342Z",
     "shell.execute_reply": "2025-07-17T19:35:37.504397Z"
    },
    "papermill": {
     "duration": 0.016627,
     "end_time": "2025-07-17T19:35:37.506606",
     "exception": false,
     "start_time": "2025-07-17T19:35:37.489979",
     "status": "completed"
    },
    "tags": []
   },
   "outputs": [
    {
     "data": {
      "application/javascript": [
       "parent.postMessage({\"jupyterEvent\": \"custom.exercise_interaction\", \"data\": {\"interactionType\": 2, \"questionType\": 2, \"questionId\": \"0_ExerciseFormatTutorial\", \"learnToolsVersion\": \"0.3.5\", \"valueTowardsCompletion\": 0.0, \"failureMessage\": \"\", \"exceptionClass\": \"\", \"trace\": \"\", \"outcomeType\": 4}}, \"*\")"
      ],
      "text/plain": [
       "<IPython.core.display.Javascript object>"
      ]
     },
     "metadata": {},
     "output_type": "display_data"
    },
    {
     "data": {
      "text/markdown": [
       "<span style=\"color:#3366cc\">Hint:</span> Your favorite color rhymes with *glue*."
      ],
      "text/plain": [
       "Hint: Your favorite color rhymes with *glue*."
      ]
     },
     "metadata": {},
     "output_type": "display_data"
    },
    {
     "data": {
      "application/javascript": [
       "parent.postMessage({\"jupyterEvent\": \"custom.exercise_interaction\", \"data\": {\"interactionType\": 3, \"questionType\": 2, \"questionId\": \"0_ExerciseFormatTutorial\", \"learnToolsVersion\": \"0.3.5\", \"valueTowardsCompletion\": 0.0, \"failureMessage\": \"\", \"exceptionClass\": \"\", \"trace\": \"\", \"outcomeType\": 4}}, \"*\")"
      ],
      "text/plain": [
       "<IPython.core.display.Javascript object>"
      ]
     },
     "metadata": {},
     "output_type": "display_data"
    },
    {
     "data": {
      "text/markdown": [
       "<span style=\"color:#33cc99\">Solution:</span> \n",
       "```python\n",
       "color = \"blue\"\n",
       "```"
      ],
      "text/plain": [
       "Solution: \n",
       "```python\n",
       "color = \"blue\"\n",
       "```"
      ]
     },
     "metadata": {},
     "output_type": "display_data"
    }
   ],
   "source": [
    "q0.hint()\n",
    "q0.solution()"
   ]
  },
  {
   "cell_type": "markdown",
   "id": "018e68e6",
   "metadata": {
    "papermill": {
     "duration": 0.00505,
     "end_time": "2025-07-17T19:35:37.517103",
     "exception": false,
     "start_time": "2025-07-17T19:35:37.512053",
     "status": "completed"
    },
    "tags": []
   },
   "source": [
    "The upcoming questions work the same way. The only thing that will change are the question numbers. For the next question, you'll call `q1.check()`, `q1.hint()`, `q1.solution()`, for question 2, you'll call `q2.check()`, and so on."
   ]
  },
  {
   "cell_type": "markdown",
   "id": "2dbd2ec3",
   "metadata": {
    "papermill": {
     "duration": 0.004858,
     "end_time": "2025-07-17T19:35:37.527001",
     "exception": false,
     "start_time": "2025-07-17T19:35:37.522143",
     "status": "completed"
    },
    "tags": []
   },
   "source": [
    "<hr/>\n",
    "\n",
    "# 1.\n",
    "\n",
    "Complete the code below. In case it's helpful, here is the table of available arithmetic operations:\n",
    "\n",
    "\n",
    "\n",
    "| Operator     | Name           | Description                                            |\n",
    "|--------------|----------------|--------------------------------------------------------|\n",
    "| ``a + b``    | Addition       | Sum of ``a`` and ``b``                                 |\n",
    "| ``a - b``    | Subtraction    | Difference of ``a`` and ``b``                          |\n",
    "| ``a * b``    | Multiplication | Product of ``a`` and ``b``                             |\n",
    "| ``a / b``    | True division  | Quotient of ``a`` and ``b``                            |\n",
    "| ``a // b``   | Floor division | Quotient of ``a`` and ``b``, removing fractional parts |\n",
    "| ``a % b``    | Modulus        | Integer remainder after division of ``a`` by ``b``     |\n",
    "| ``a ** b``   | Exponentiation | ``a`` raised to the power of ``b``                     |\n",
    "| ``-a``       | Negation       | The negative of ``a``                                  |\n",
    "\n",
    "<span style=\"display:none\"></span>\n"
   ]
  },
  {
   "cell_type": "code",
   "execution_count": 5,
   "id": "7aa7ef53",
   "metadata": {
    "execution": {
     "iopub.execute_input": "2025-07-17T19:35:37.538783Z",
     "iopub.status.busy": "2025-07-17T19:35:37.538149Z",
     "iopub.status.idle": "2025-07-17T19:35:37.545293Z",
     "shell.execute_reply": "2025-07-17T19:35:37.544488Z"
    },
    "papermill": {
     "duration": 0.01438,
     "end_time": "2025-07-17T19:35:37.546539",
     "exception": false,
     "start_time": "2025-07-17T19:35:37.532159",
     "status": "completed"
    },
    "tags": []
   },
   "outputs": [
    {
     "data": {
      "application/javascript": [
       "parent.postMessage({\"jupyterEvent\": \"custom.exercise_interaction\", \"data\": {\"outcomeType\": 1, \"valueTowardsCompletion\": 0.25, \"interactionType\": 1, \"questionType\": 1, \"questionId\": \"1_CircleArea\", \"learnToolsVersion\": \"0.3.5\", \"failureMessage\": \"\", \"exceptionClass\": \"\", \"trace\": \"\"}}, \"*\")"
      ],
      "text/plain": [
       "<IPython.core.display.Javascript object>"
      ]
     },
     "metadata": {},
     "output_type": "display_data"
    },
    {
     "data": {
      "text/markdown": [
       "<span style=\"color:#33cc33\">Correct</span>"
      ],
      "text/plain": [
       "Correct"
      ]
     },
     "metadata": {},
     "output_type": "display_data"
    }
   ],
   "source": [
    "pi = 3.14159 # approximate\n",
    "diameter = 3\n",
    "\n",
    "# Create a variable called 'radius' equal to half the diameter\n",
    "radius = diameter / 2\n",
    "#____\n",
    "\n",
    "# Create a variable called 'area', using the formula for the area of a circle: pi times the radius squared\n",
    "area = pi * (radius ** 2)\n",
    "#____\n",
    "\n",
    "# Check your answer\n",
    "q1.check()"
   ]
  },
  {
   "cell_type": "code",
   "execution_count": 6,
   "id": "a29a2ebe",
   "metadata": {
    "execution": {
     "iopub.execute_input": "2025-07-17T19:35:37.559037Z",
     "iopub.status.busy": "2025-07-17T19:35:37.558269Z",
     "iopub.status.idle": "2025-07-17T19:35:37.562442Z",
     "shell.execute_reply": "2025-07-17T19:35:37.561560Z"
    },
    "papermill": {
     "duration": 0.011965,
     "end_time": "2025-07-17T19:35:37.563956",
     "exception": false,
     "start_time": "2025-07-17T19:35:37.551991",
     "status": "completed"
    },
    "tags": []
   },
   "outputs": [],
   "source": [
    "# Uncomment and run the lines below if you need help.\n",
    "#q1.hint()\n",
    "#q1.solution()"
   ]
  },
  {
   "cell_type": "markdown",
   "id": "2dd13465",
   "metadata": {
    "papermill": {
     "duration": 0.005148,
     "end_time": "2025-07-17T19:35:37.574710",
     "exception": false,
     "start_time": "2025-07-17T19:35:37.569562",
     "status": "completed"
    },
    "tags": []
   },
   "source": [
    "<hr/>\n",
    "\n",
    "# 2.\n",
    "\n",
    "Add code to the following cell to swap variables `a` and `b` (so that `a` refers to the object previously referred to by `b` and vice versa)."
   ]
  },
  {
   "cell_type": "code",
   "execution_count": 7,
   "id": "4022a58b",
   "metadata": {
    "execution": {
     "iopub.execute_input": "2025-07-17T19:35:37.586932Z",
     "iopub.status.busy": "2025-07-17T19:35:37.586186Z",
     "iopub.status.idle": "2025-07-17T19:35:37.593849Z",
     "shell.execute_reply": "2025-07-17T19:35:37.592992Z"
    },
    "papermill": {
     "duration": 0.015152,
     "end_time": "2025-07-17T19:35:37.595222",
     "exception": false,
     "start_time": "2025-07-17T19:35:37.580070",
     "status": "completed"
    },
    "tags": []
   },
   "outputs": [
    {
     "data": {
      "application/javascript": [
       "parent.postMessage({\"jupyterEvent\": \"custom.exercise_interaction\", \"data\": {\"outcomeType\": 1, \"valueTowardsCompletion\": 0.25, \"interactionType\": 1, \"questionType\": 2, \"questionId\": \"2_VariableSwap\", \"learnToolsVersion\": \"0.3.5\", \"failureMessage\": \"\", \"exceptionClass\": \"\", \"trace\": \"\"}}, \"*\")"
      ],
      "text/plain": [
       "<IPython.core.display.Javascript object>"
      ]
     },
     "metadata": {},
     "output_type": "display_data"
    },
    {
     "data": {
      "text/markdown": [
       "<span style=\"color:#33cc33\">Correct:</span> \n",
       "\n",
       "The most straightforward solution is to use a third variable to temporarily store one of the old values. e.g.:\n",
       "\n",
       "    tmp = a\n",
       "    a = b\n",
       "    b = tmp\n",
       "\n",
       "If you've read lots of Python code, you might have seen the following trick to swap two variables in one line:\n",
       "\n",
       "    a, b = b, a\n",
       "\n",
       "We'll demystify this bit of Python magic later when we talk about *tuples*."
      ],
      "text/plain": [
       "Correct: \n",
       "\n",
       "The most straightforward solution is to use a third variable to temporarily store one of the old values. e.g.:\n",
       "\n",
       "    tmp = a\n",
       "    a = b\n",
       "    b = tmp\n",
       "\n",
       "If you've read lots of Python code, you might have seen the following trick to swap two variables in one line:\n",
       "\n",
       "    a, b = b, a\n",
       "\n",
       "We'll demystify this bit of Python magic later when we talk about *tuples*."
      ]
     },
     "metadata": {},
     "output_type": "display_data"
    }
   ],
   "source": [
    "########### Setup code - don't touch this part ######################\n",
    "# If you're curious, these are examples of lists. We'll talk about \n",
    "# them in depth a few lessons from now. For now, just know that they're\n",
    "# yet another type of Python object, like int or float.\n",
    "a = [1, 2, 3]\n",
    "b = [3, 2, 1]\n",
    "q2.store_original_ids()\n",
    "######################################################################\n",
    "\n",
    "# Your code goes here. Swap the values to which a and b refer.\n",
    "# If you get stuck, you can always uncomment one or both of the lines in\n",
    "# the next cell for a hint, or to peek at the solution.\n",
    "c = [a,b]\n",
    "a = c[1]\n",
    "b = c[0]\n",
    "\n",
    "######################################################################\n",
    "\n",
    "# Check your answer\n",
    "q2.check()"
   ]
  },
  {
   "cell_type": "code",
   "execution_count": 8,
   "id": "fe15b6a9",
   "metadata": {
    "execution": {
     "iopub.execute_input": "2025-07-17T19:35:37.608051Z",
     "iopub.status.busy": "2025-07-17T19:35:37.607705Z",
     "iopub.status.idle": "2025-07-17T19:35:37.611375Z",
     "shell.execute_reply": "2025-07-17T19:35:37.610758Z"
    },
    "papermill": {
     "duration": 0.011652,
     "end_time": "2025-07-17T19:35:37.612702",
     "exception": false,
     "start_time": "2025-07-17T19:35:37.601050",
     "status": "completed"
    },
    "tags": []
   },
   "outputs": [],
   "source": [
    "#q2.hint()"
   ]
  },
  {
   "cell_type": "code",
   "execution_count": 9,
   "id": "ca3ff08a",
   "metadata": {
    "execution": {
     "iopub.execute_input": "2025-07-17T19:35:37.626159Z",
     "iopub.status.busy": "2025-07-17T19:35:37.625192Z",
     "iopub.status.idle": "2025-07-17T19:35:37.629552Z",
     "shell.execute_reply": "2025-07-17T19:35:37.628551Z"
    },
    "papermill": {
     "duration": 0.012854,
     "end_time": "2025-07-17T19:35:37.631254",
     "exception": false,
     "start_time": "2025-07-17T19:35:37.618400",
     "status": "completed"
    },
    "tags": []
   },
   "outputs": [],
   "source": [
    "#q2.solution()"
   ]
  },
  {
   "cell_type": "markdown",
   "id": "b512a147",
   "metadata": {
    "papermill": {
     "duration": 0.005414,
     "end_time": "2025-07-17T19:35:37.642428",
     "exception": false,
     "start_time": "2025-07-17T19:35:37.637014",
     "status": "completed"
    },
    "tags": []
   },
   "source": [
    "<hr/>\n",
    "\n",
    "# 3a.\n",
    "\n",
    "Add parentheses to the following expression so that it evaluates to 1."
   ]
  },
  {
   "cell_type": "code",
   "execution_count": 10,
   "id": "24fa3dfc",
   "metadata": {
    "execution": {
     "iopub.execute_input": "2025-07-17T19:35:37.654779Z",
     "iopub.status.busy": "2025-07-17T19:35:37.654455Z",
     "iopub.status.idle": "2025-07-17T19:35:37.660135Z",
     "shell.execute_reply": "2025-07-17T19:35:37.659309Z"
    },
    "papermill": {
     "duration": 0.013449,
     "end_time": "2025-07-17T19:35:37.661470",
     "exception": false,
     "start_time": "2025-07-17T19:35:37.648021",
     "status": "completed"
    },
    "tags": []
   },
   "outputs": [
    {
     "data": {
      "text/plain": [
       "1"
      ]
     },
     "execution_count": 10,
     "metadata": {},
     "output_type": "execute_result"
    }
   ],
   "source": [
    "(5 - 3) // 2"
   ]
  },
  {
   "cell_type": "code",
   "execution_count": 11,
   "id": "4d9e1b1a",
   "metadata": {
    "execution": {
     "iopub.execute_input": "2025-07-17T19:35:37.674064Z",
     "iopub.status.busy": "2025-07-17T19:35:37.673792Z",
     "iopub.status.idle": "2025-07-17T19:35:37.677478Z",
     "shell.execute_reply": "2025-07-17T19:35:37.676801Z"
    },
    "papermill": {
     "duration": 0.011644,
     "end_time": "2025-07-17T19:35:37.678884",
     "exception": false,
     "start_time": "2025-07-17T19:35:37.667240",
     "status": "completed"
    },
    "tags": []
   },
   "outputs": [],
   "source": [
    "#q3.a.hint()"
   ]
  },
  {
   "cell_type": "code",
   "execution_count": 12,
   "id": "abf444f4",
   "metadata": {
    "execution": {
     "iopub.execute_input": "2025-07-17T19:35:37.691943Z",
     "iopub.status.busy": "2025-07-17T19:35:37.691328Z",
     "iopub.status.idle": "2025-07-17T19:35:37.698602Z",
     "shell.execute_reply": "2025-07-17T19:35:37.697764Z"
    },
    "papermill": {
     "duration": 0.015179,
     "end_time": "2025-07-17T19:35:37.699870",
     "exception": false,
     "start_time": "2025-07-17T19:35:37.684691",
     "status": "completed"
    },
    "tags": []
   },
   "outputs": [
    {
     "data": {
      "application/javascript": [
       "parent.postMessage({\"jupyterEvent\": \"custom.exercise_interaction\", \"data\": {\"interactionType\": 3, \"questionType\": 4, \"questionId\": \"3.1_ArithmeticParensEasy\", \"learnToolsVersion\": \"0.3.5\", \"valueTowardsCompletion\": 0.0, \"failureMessage\": \"\", \"exceptionClass\": \"\", \"trace\": \"\", \"outcomeType\": 4}}, \"*\")"
      ],
      "text/plain": [
       "<IPython.core.display.Javascript object>"
      ]
     },
     "metadata": {},
     "output_type": "display_data"
    },
    {
     "data": {
      "text/markdown": [
       "<span style=\"color:#33cc99\">Solution:</span> \n",
       "```python\n",
       "(5 - 3) // 2\n",
       "```"
      ],
      "text/plain": [
       "Solution: \n",
       "```python\n",
       "(5 - 3) // 2\n",
       "```"
      ]
     },
     "metadata": {},
     "output_type": "display_data"
    }
   ],
   "source": [
    "# Check your answer (Run this code cell to receive credit!)\n",
    "q3.a.solution()"
   ]
  },
  {
   "cell_type": "markdown",
   "id": "6e994005",
   "metadata": {
    "papermill": {
     "duration": 0.005634,
     "end_time": "2025-07-17T19:35:37.711408",
     "exception": false,
     "start_time": "2025-07-17T19:35:37.705774",
     "status": "completed"
    },
    "tags": []
   },
   "source": [
    "# 3b.  <span title=\"A bit spicy\" style=\"color: darkgreen \">🌶️</span>\n",
    "\n",
    "<small>Questions, like this one, marked a spicy pepper are a bit harder.</small>\n",
    "\n",
    "Add parentheses to the following expression so that it evaluates to 0."
   ]
  },
  {
   "cell_type": "code",
   "execution_count": 13,
   "id": "1360e609",
   "metadata": {
    "execution": {
     "iopub.execute_input": "2025-07-17T19:35:37.724072Z",
     "iopub.status.busy": "2025-07-17T19:35:37.723709Z",
     "iopub.status.idle": "2025-07-17T19:35:37.729204Z",
     "shell.execute_reply": "2025-07-17T19:35:37.728484Z"
    },
    "papermill": {
     "duration": 0.013286,
     "end_time": "2025-07-17T19:35:37.730443",
     "exception": false,
     "start_time": "2025-07-17T19:35:37.717157",
     "status": "completed"
    },
    "tags": []
   },
   "outputs": [
    {
     "data": {
      "text/plain": [
       "0"
      ]
     },
     "execution_count": 13,
     "metadata": {},
     "output_type": "execute_result"
    }
   ],
   "source": [
    "8 - 3 * 2 - (1 + 1)"
   ]
  },
  {
   "cell_type": "code",
   "execution_count": 14,
   "id": "ce324def",
   "metadata": {
    "execution": {
     "iopub.execute_input": "2025-07-17T19:35:37.744125Z",
     "iopub.status.busy": "2025-07-17T19:35:37.743336Z",
     "iopub.status.idle": "2025-07-17T19:35:37.747282Z",
     "shell.execute_reply": "2025-07-17T19:35:37.746481Z"
    },
    "papermill": {
     "duration": 0.011954,
     "end_time": "2025-07-17T19:35:37.748517",
     "exception": false,
     "start_time": "2025-07-17T19:35:37.736563",
     "status": "completed"
    },
    "tags": []
   },
   "outputs": [],
   "source": [
    "#q3.b.hint()"
   ]
  },
  {
   "cell_type": "code",
   "execution_count": 15,
   "id": "54e498e7",
   "metadata": {
    "execution": {
     "iopub.execute_input": "2025-07-17T19:35:37.761650Z",
     "iopub.status.busy": "2025-07-17T19:35:37.761384Z",
     "iopub.status.idle": "2025-07-17T19:35:37.767640Z",
     "shell.execute_reply": "2025-07-17T19:35:37.766963Z"
    },
    "papermill": {
     "duration": 0.01449,
     "end_time": "2025-07-17T19:35:37.769129",
     "exception": false,
     "start_time": "2025-07-17T19:35:37.754639",
     "status": "completed"
    },
    "tags": []
   },
   "outputs": [
    {
     "data": {
      "application/javascript": [
       "parent.postMessage({\"jupyterEvent\": \"custom.exercise_interaction\", \"data\": {\"interactionType\": 3, \"questionType\": 4, \"questionId\": \"3.2_ArithmeticParensHard\", \"learnToolsVersion\": \"0.3.5\", \"valueTowardsCompletion\": 0.0, \"failureMessage\": \"\", \"exceptionClass\": \"\", \"trace\": \"\", \"outcomeType\": 4}}, \"*\")"
      ],
      "text/plain": [
       "<IPython.core.display.Javascript object>"
      ]
     },
     "metadata": {},
     "output_type": "display_data"
    },
    {
     "data": {
      "text/markdown": [
       "<span style=\"color:#33cc99\">Solution:</span> `(8 - 3) * (2 - (1 + 1))` is one solution. There may be others."
      ],
      "text/plain": [
       "Solution: `(8 - 3) * (2 - (1 + 1))` is one solution. There may be others."
      ]
     },
     "metadata": {},
     "output_type": "display_data"
    }
   ],
   "source": [
    "# Check your answer (Run this code cell to receive credit!)\n",
    "q3.b.solution()"
   ]
  },
  {
   "cell_type": "markdown",
   "id": "4c15ac56",
   "metadata": {
    "papermill": {
     "duration": 0.006091,
     "end_time": "2025-07-17T19:35:37.781292",
     "exception": false,
     "start_time": "2025-07-17T19:35:37.775201",
     "status": "completed"
    },
    "tags": []
   },
   "source": [
    "<hr/>\n",
    "\n",
    "# 4. \n",
    "Alice, Bob and Carol have agreed to pool their Halloween candy and split it evenly among themselves.\n",
    "For the sake of their friendship, any candies left over will be smashed. For example, if they collectively\n",
    "bring home 91 candies, they'll take 30 each and smash 1.\n",
    "\n",
    "Write an arithmetic expression below to calculate how many candies they must smash for a given haul."
   ]
  },
  {
   "cell_type": "code",
   "execution_count": 16,
   "id": "75db9358",
   "metadata": {
    "execution": {
     "iopub.execute_input": "2025-07-17T19:35:37.795266Z",
     "iopub.status.busy": "2025-07-17T19:35:37.794516Z",
     "iopub.status.idle": "2025-07-17T19:35:37.801303Z",
     "shell.execute_reply": "2025-07-17T19:35:37.800777Z"
    },
    "papermill": {
     "duration": 0.015022,
     "end_time": "2025-07-17T19:35:37.802481",
     "exception": false,
     "start_time": "2025-07-17T19:35:37.787459",
     "status": "completed"
    },
    "tags": []
   },
   "outputs": [
    {
     "data": {
      "application/javascript": [
       "parent.postMessage({\"jupyterEvent\": \"custom.exercise_interaction\", \"data\": {\"outcomeType\": 1, \"valueTowardsCompletion\": 0.25, \"interactionType\": 1, \"questionType\": 1, \"questionId\": \"4_CandySplitting\", \"learnToolsVersion\": \"0.3.5\", \"failureMessage\": \"\", \"exceptionClass\": \"\", \"trace\": \"\"}}, \"*\")"
      ],
      "text/plain": [
       "<IPython.core.display.Javascript object>"
      ]
     },
     "metadata": {},
     "output_type": "display_data"
    },
    {
     "data": {
      "text/markdown": [
       "<span style=\"color:#33cc33\">Correct</span>"
      ],
      "text/plain": [
       "Correct"
      ]
     },
     "metadata": {},
     "output_type": "display_data"
    }
   ],
   "source": [
    "# Variables representing the number of candies collected by alice, bob, and carol\n",
    "alice_candies = 121\n",
    "bob_candies = 77\n",
    "carol_candies = 109\n",
    "\n",
    "# Your code goes here! Replace the right-hand side of this assignment with an expression\n",
    "# involving alice_candies, bob_candies, and carol_candies\n",
    "to_smash = (alice_candies + bob_candies + carol_candies)%3\n",
    "\n",
    "# Check your answer\n",
    "q4.check()"
   ]
  },
  {
   "cell_type": "code",
   "execution_count": 17,
   "id": "05d7e3d2",
   "metadata": {
    "execution": {
     "iopub.execute_input": "2025-07-17T19:35:37.816460Z",
     "iopub.status.busy": "2025-07-17T19:35:37.816200Z",
     "iopub.status.idle": "2025-07-17T19:35:37.823002Z",
     "shell.execute_reply": "2025-07-17T19:35:37.822211Z"
    },
    "papermill": {
     "duration": 0.015357,
     "end_time": "2025-07-17T19:35:37.824248",
     "exception": false,
     "start_time": "2025-07-17T19:35:37.808891",
     "status": "completed"
    },
    "tags": []
   },
   "outputs": [
    {
     "data": {
      "application/javascript": [
       "parent.postMessage({\"jupyterEvent\": \"custom.exercise_interaction\", \"data\": {\"interactionType\": 3, \"questionType\": 1, \"questionId\": \"4_CandySplitting\", \"learnToolsVersion\": \"0.3.5\", \"valueTowardsCompletion\": 0.0, \"failureMessage\": \"\", \"exceptionClass\": \"\", \"trace\": \"\", \"outcomeType\": 4}}, \"*\")"
      ],
      "text/plain": [
       "<IPython.core.display.Javascript object>"
      ]
     },
     "metadata": {},
     "output_type": "display_data"
    },
    {
     "data": {
      "text/markdown": [
       "<span style=\"color:#33cc99\">Solution:</span> \n",
       "```python\n",
       "(alice_candies + bob_candies + carol_candies) % 3\n",
       "```"
      ],
      "text/plain": [
       "Solution: \n",
       "```python\n",
       "(alice_candies + bob_candies + carol_candies) % 3\n",
       "```"
      ]
     },
     "metadata": {},
     "output_type": "display_data"
    }
   ],
   "source": [
    "#q4.hint()\n",
    "q4.solution()"
   ]
  },
  {
   "cell_type": "markdown",
   "id": "4b170d11",
   "metadata": {
    "papermill": {
     "duration": 0.006137,
     "end_time": "2025-07-17T19:35:37.837007",
     "exception": false,
     "start_time": "2025-07-17T19:35:37.830870",
     "status": "completed"
    },
    "tags": []
   },
   "source": [
    "# Keep Going\n",
    "\n",
    "Next up, you'll **[learn to write new functions and understand functions others write](https://www.kaggle.com/colinmorris/functions-and-getting-help)**. This will make you at least 10 times more productive as a Python programmer. "
   ]
  },
  {
   "cell_type": "markdown",
   "id": "25c08baf",
   "metadata": {
    "papermill": {
     "duration": 0.00616,
     "end_time": "2025-07-17T19:35:37.849772",
     "exception": false,
     "start_time": "2025-07-17T19:35:37.843612",
     "status": "completed"
    },
    "tags": []
   },
   "source": [
    "---\n",
    "\n",
    "\n",
    "\n",
    "\n",
    "*Have questions or comments? Visit the [course discussion forum](https://www.kaggle.com/learn/python/discussion) to chat with other learners.*"
   ]
  }
 ],
 "metadata": {
  "kaggle": {
   "accelerator": "none",
   "dataSources": [],
   "isGpuEnabled": false,
   "isInternetEnabled": false,
   "language": "python",
   "sourceType": "notebook"
  },
  "kernelspec": {
   "display_name": "Python 3",
   "language": "python",
   "name": "python3"
  },
  "language_info": {
   "codemirror_mode": {
    "name": "ipython",
    "version": 3
   },
   "file_extension": ".py",
   "mimetype": "text/x-python",
   "name": "python",
   "nbconvert_exporter": "python",
   "pygments_lexer": "ipython3",
   "version": "3.11.13"
  },
  "learntools_metadata": {
   "lesson_index": 0,
   "type": "exercise"
  },
  "papermill": {
   "default_parameters": {},
   "duration": 7.413767,
   "end_time": "2025-07-17T19:35:38.374330",
   "environment_variables": {},
   "exception": null,
   "input_path": "__notebook__.ipynb",
   "output_path": "__notebook__.ipynb",
   "parameters": {},
   "start_time": "2025-07-17T19:35:30.960563",
   "version": "2.6.0"
  }
 },
 "nbformat": 4,
 "nbformat_minor": 5
}
